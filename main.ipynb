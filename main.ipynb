{
 "cells": [
  {
   "cell_type": "code",
   "execution_count": 73,
   "metadata": {},
   "outputs": [],
   "source": [
    "import pandas as pd\n",
    "import numpy as np\n",
    "import datetime\n",
    "import matplotlib.pyplot as plt\n",
    "import math"
   ]
  },
  {
   "cell_type": "code",
   "execution_count": 74,
   "metadata": {},
   "outputs": [],
   "source": [
    "def lineIsSafe(line: np.array):\n",
    "    if line[0] == \"\" or line[0] == None:\n",
    "        return False\n",
    "    elif line[1] == \"\" or line[1] == None:\n",
    "        return False\n",
    "    elif line[2] == \"\" or line[2] == None:\n",
    "        return False\n",
    "    elif line[3] == \"\" or line[3] == None:\n",
    "        return False\n",
    "    elif line[4] == \"\" or line[4] == None or np.isnan(line[4]) or math.isnan(float(line[4])):\n",
    "        return False\n",
    "    elif line[5] != 1 and line[5] != 0 or np.isnan(line[5]):\n",
    "        return False\n",
    "    elif line[6] != 1 and line[6] != 0 or np.isnan(line[6]):\n",
    "        return False\n",
    "    elif line[7] != 1 and line[7] != 0 or np.isnan(line[7]):\n",
    "        return False\n",
    "    elif line[8] != 1 and line[8] != 0 or np.isnan(line[8]):\n",
    "        return False\n",
    "    elif line[9] != 1 and line[9] != 0 or np.isnan(line[9]):\n",
    "        return False\n",
    "    elif np.isnan(line[10]):\n",
    "        return False\n",
    "    elif np.isnan(line[11]):\n",
    "        return False\n",
    "    elif line[12] != 1 and line[12] != 0 or np.isnan(line[12]):\n",
    "        return False\n",
    "    elif line[16] != 1 and line[16] != 0 or np.isnan(line[16]):\n",
    "        return False\n",
    "    return True"
   ]
  },
  {
   "cell_type": "code",
   "execution_count": 76,
   "metadata": {},
   "outputs": [
    {
     "name": "stdout",
     "output_type": "stream",
     "text": [
      "*--abrindo database--*\n",
      "*--convertendo database--*\n",
      "*--percorrendo a database--*\n",
      "*--deletando os itens anomalos--*\n",
      "*-- foram deletadas 249 linhas --*\n",
      "*--criando nova database--*\n",
      "*--salvando a database--*\n"
     ]
    }
   ],
   "source": [
    "def cleannerDatabase(parquetPath: str):\n",
    "    print(\"*--abrindo database--*\")\n",
    "    dataframe = pd.read_parquet(f'{parquetPath}.parquet3', engine=\"pyarrow\")\n",
    "    columns = dataframe.columns\n",
    "    print(\"*--convertendo database--*\")\n",
    "    trash = dataframe.to_numpy()\n",
    "    print(\"*--percorrendo a database--*\")\n",
    "    count = 0\n",
    "    indexes = []\n",
    "    for row in trash:\n",
    "        if row[13] != 1 and row[13] != 0 or np.isnan(row[13]):\n",
    "            row[13] = 0\n",
    "        if row[14] != 1 and row[14] != 0 or np.isnan(row[14]):\n",
    "            row[14] = 0\n",
    "        if row[15] != 1 and row[15] != 0 or np.isnan(row[15]):\n",
    "            row[15] = 0\n",
    "        if(lineIsSafe(row) == False):\n",
    "            indexes.append(count)\n",
    "            count += 1\n",
    "    print(\"*--deletando os itens anomalos--*\")\n",
    "    trash = np.delete(trash, indexes, axis=0)\n",
    "    print(f\"*-- foram deletadas {len(indexes)} linhas --*\")\n",
    "    print(\"*--criando nova database--*\")\n",
    "    database = pd.DataFrame(trash, columns=columns)\n",
    "    print(\"*--salvando a database--*\")\n",
    "    database.to_parquet(\"final.parquet3\")\n",
    "\n",
    "cleannerDatabase(\"logins\")"
   ]
  },
  {
   "cell_type": "code",
   "execution_count": 97,
   "metadata": {},
   "outputs": [],
   "source": [
    "dataframe = pd.read_parquet('final.parquet3', engine=\"pyarrow\")\n",
    "mean_timestamp = dataframe['timestamp'].mean()\n",
    "dataframe['timestamp'] = dataframe['timestamp'].fillna(mean_timestamp)\n",
    "dataframe.to_parquet(\"final.parquet3\")"
   ]
  },
  {
   "cell_type": "code",
   "execution_count": 98,
   "metadata": {},
   "outputs": [
    {
     "name": "stdout",
     "output_type": "stream",
     "text": [
      "*--abrindo database--*\n",
      "*--convertendo timestamp--*\n",
      "*--salvando a database--*\n"
     ]
    }
   ],
   "source": [
    "def createDateColumn(parquetPath: str):\n",
    "    print(\"*--abrindo database--*\")\n",
    "    dataframe = pd.read_parquet(f'{parquetPath}.parquet3', engine=\"pyarrow\")\n",
    "    print(\"*--convertendo timestamp--*\")\n",
    "    lista = []\n",
    "    dataframenumpy = dataframe.to_numpy()\n",
    "    count = 0\n",
    "    for linha in dataframenumpy:\n",
    "        lista.append(datetime.datetime.fromtimestamp(linha[4]/1000.0))\n",
    "    # datecolumn = pd.to_datetime(dataframe['timestamp'], unit=\"ms\")\n",
    "    dataframe[\"local_date_time\"] = lista\n",
    "    print(\"*--salvando a database--*\")\n",
    "    dataframe.to_parquet(\"data.parquet3\")\n",
    "createDateColumn(\"final\")"
   ]
  },
  {
   "cell_type": "code",
   "execution_count": 99,
   "metadata": {},
   "outputs": [
    {
     "name": "stdout",
     "output_type": "stream",
     "text": [
      "              id        account_id         device_id   installation_id  \\\n",
      "0   799740346707  TqOdN7Cur7dtEdK7  V1/mpO8Eb5fy/87f  HwLha2eyuH87iOHw   \n",
      "1   799740346708  I+G2HszxtyUbCVsW  gKXXaMs2g+gnkHOt  5JRPK8+KpnkGLGJR   \n",
      "2   799740346709  5sfgFfXCFYj6iNuD  kuo6ArO8jK+wNzVK  SodNn8Yr7znCjf6z   \n",
      "3   799740346710  J64jLpE2HpKoR2So  jbR+9pwpd5El8Xug  WwDbJdena2/yXSv0   \n",
      "4   799740346711  0Ui1Br2v3WBi6qim  DQRaW4xrifVhH3+Z  /q9io2xZDrfDSSFJ   \n",
      "5   799740346712  nCLbHD+TcJNpbVeB  k27RE4KYsVCYXIBz  b7+4bFJ+hAfqweoV   \n",
      "6   799740346713  hrXvmMD3MG/mQ4Uo  jcyr+X88Of+lewJN  Nv1Yq/joN+MpJZlJ   \n",
      "7   799740346714  O0H7FI6lU+5iNjc+  SfXZpzt3gh0/bE5z  qy9HDcWVe0VxIyHs   \n",
      "8   799740346715  nCLbHD+TcJNpbVeB  k27RE4KYsVCYXIBz  b7+4bFJ+hAfqweoV   \n",
      "9   799740346716  yG098llrQFC8zW9T  579BzreQ68QdX8JA  sXVvGJyQUC2f8Tb5   \n",
      "10  799740346717  Z/rmW6SFq/JdVxnF  UiOGerq8OQTKpcB1  dJUsFDoPHn/QPL34   \n",
      "11  799740346718  LYo6+Xa2w+TG86VR  0mYLyoN5LVAc3QWG  OwGbT/L/YZOFcPC3   \n",
      "12  799740346719  YxsEc7ivE5k95ZDb  MeEXaLexc7APfxSE  cT62L6d3UlwZtXBl   \n",
      "13  799740346720  WGjuSoEFEW34ncHD  m0ozzUMRRda1JegG  D5rjVEmsv5jjjt6Y   \n",
      "14  799740346721  NR/cm/fPOLaRzlQ2  ZpjnvJYN34jdICjv  0yhbD9H6Eg6c2xDe   \n",
      "15  799740346722  CW5O3PO7HyterKaD  Dq82nsQ//YBIIy2b  mlvKbyfxLKwXB57T   \n",
      "16  799740346723  1kaJMtSQadBx6ClO  g/3N5+54YByciuky  QzcTjfDUOJUZQhzd   \n",
      "17  799740346724  kLsQR/b18SLvUdRu  +SxeCebb/B2d+DPy  KeVodkFDV6T/Z92F   \n",
      "18  799740346725  V/E2zE6qfnQ3pXoy  iHtoZI4U30C85C1z  ClXqJUYsYQJRUU2U   \n",
      "19  799740346726  8Ocu+6nGR9mAM9rN  hNOMctPqE5igOEVb  vrtg6jTDMSzXOgfD   \n",
      "20  799740346727  skrHxnWgVITBy9ic  wYBP6LO1p3dl0C1B  BDgMg7RRCOA6bmQb   \n",
      "21  799740346728  skrHxnWgVITBy9ic  wYBP6LO1p3dl0C1B  BDgMg7RRCOA6bmQb   \n",
      "22  799740346729  l1s1T3qXF+XYxVyk  MCQCmNm+ISTwAzoa  6scFhV6Qjm8kVGP1   \n",
      "23  799740346730  +Q1TBzhWbX/iL0Fs  lmBKjx9Jal5gzkhu  duMdCZnr8ByOv5kL   \n",
      "24  799740346731  kLsQR/b18SLvUdRu  +SxeCebb/B2d+DPy  KeVodkFDV6T/Z92F   \n",
      "25  799740346732  U7zNxrRiQxuGpYCh  Rx0mAS/9c/VhHuuF  bJFZSgtKZrqyLqFj   \n",
      "26  799740346733  RgfizLxAa/KjZPn9  pSnqTIaA2uFt92Xk  4Nw3piBRIkg6f9CB   \n",
      "27  799740346734  iOoFCiGUAN1lQuji  LrwExnnkSqQS4whk  s52G7s4ZRG6f9Uoq   \n",
      "28  799740346735  4xo5/38uUUI2vy3H  52Sg+cWtjn/md4aX  qfew+CXDOk59cGHW   \n",
      "29  799740346736  jFhpgwCmC1kF2DQH  2QBrQ9JmypI36KqV  rBU42rWERcXbGNN+   \n",
      "30  799740346737  Y0NLJCWqQ39hDJtd  zwgP/K1U1m5fL2r4  itrOxSmqOnowWxes   \n",
      "31  799740346738  S5Ojbvt4ANmQ5Yjb  +Xk3fCqY/awf4aOy  v7QyADsMMvXJCOCt   \n",
      "32  799740346739  Zty6t7cKNiq40nJh  yg9yOoUhKyYjR1fl  GN0gLvCGfu+Iza4K   \n",
      "33  799740346740  kJP3KDmR+nrZNW3d  lLG27strLypV69nF  gxgPLxwrsKQa0Yak   \n",
      "34  799740346741  YFr4VxQnwPuY0g8X  vyO6ntJFEl2o5WiX  oHJG8dXsgfsW0F+M   \n",
      "35  799740346742  v2KFTq1CAGK/3Wu0  ZcCqPS1wfiHfIkMP  TwOQSwPDj+bM/6/1   \n",
      "36  799740346743  iJrPPo65VfnvYLdt  NEDUcsEHMlr5JuuU  VbdsiN+pk4yqHRls   \n",
      "37  799740346744  xSeDXmf79aAmy3it  nqvgYYAnr9rNyF3b  Vsap1YNrGmXcPUYu   \n",
      "38  799740346745  9YFzUsyHCurS5kFa  feRLMkdAPqpzL6OX  WPmN0z5lG/mret6H   \n",
      "39  799740346746  dAxUgGGZmohogWZZ  yYqo4PkugHaYE8uP  HldO+4I5/sZzmHzL   \n",
      "\n",
      "       timestamp  is_from_official_store  is_emulator  has_fake_location_app  \\\n",
      "0   1.619888e+12                     1.0          0.0                    0.0   \n",
      "1   1.621366e+12                     1.0          0.0                    0.0   \n",
      "2   1.624017e+12                     1.0          0.0                    0.0   \n",
      "3   1.626304e+12                     1.0          0.0                    0.0   \n",
      "4   1.618733e+12                     1.0          0.0                    0.0   \n",
      "5   1.619024e+12                     1.0          0.0                    0.0   \n",
      "6   1.626302e+12                     1.0          0.0                    0.0   \n",
      "7   1.625405e+12                     1.0          0.0                    0.0   \n",
      "8   1.622114e+12                     1.0          0.0                    0.0   \n",
      "9   1.623433e+12                     1.0          0.0                    0.0   \n",
      "10  1.622835e+12                     1.0          0.0                    0.0   \n",
      "11  1.623196e+12                     1.0          0.0                    0.0   \n",
      "12  1.620212e+12                     1.0          0.0                    0.0   \n",
      "13  1.623104e+12                     1.0          0.0                    0.0   \n",
      "14  1.624975e+12                     1.0          0.0                    0.0   \n",
      "15  1.620416e+12                     0.0          0.0                    0.0   \n",
      "16  1.626479e+12                     1.0          0.0                    0.0   \n",
      "17  1.620955e+12                     1.0          0.0                    0.0   \n",
      "18  1.627054e+12                     1.0          0.0                    0.0   \n",
      "19  1.626355e+12                     1.0          0.0                    0.0   \n",
      "20  1.620502e+12                     1.0          0.0                    0.0   \n",
      "21  1.621170e+12                     1.0          0.0                    0.0   \n",
      "22  1.621457e+12                     1.0          0.0                    0.0   \n",
      "23  1.625863e+12                     1.0          0.0                    0.0   \n",
      "24  1.624754e+12                     1.0          0.0                    0.0   \n",
      "25  1.621468e+12                     1.0          0.0                    0.0   \n",
      "26  1.621031e+12                     1.0          0.0                    0.0   \n",
      "27  1.622159e+12                     1.0          0.0                    0.0   \n",
      "28  1.621243e+12                     1.0          0.0                    0.0   \n",
      "29  1.620454e+12                     1.0          0.0                    0.0   \n",
      "30  1.625866e+12                     1.0          0.0                    0.0   \n",
      "31  1.620788e+12                     1.0          0.0                    1.0   \n",
      "32  1.625529e+12                     1.0          0.0                    0.0   \n",
      "33  1.622146e+12                     1.0          0.0                    0.0   \n",
      "34  1.624614e+12                     1.0          0.0                    0.0   \n",
      "35  1.625827e+12                     1.0          0.0                    0.0   \n",
      "36  1.625864e+12                     1.0          0.0                    0.0   \n",
      "37  1.625080e+12                     1.0          0.0                    0.0   \n",
      "38  1.619467e+12                     1.0          0.0                    0.0   \n",
      "39  1.617830e+12                     1.0          0.0                    0.0   \n",
      "\n",
      "    has_fake_location_enabled  probable_root  device_age_ms  \\\n",
      "0                         0.0            0.0   4.304522e+09   \n",
      "1                         0.0            0.0   2.392659e+10   \n",
      "2                         0.0            0.0   2.473928e+10   \n",
      "3                         0.0            0.0   1.918591e+10   \n",
      "4                         0.0            0.0   3.618855e+09   \n",
      "5                         0.0            0.0   1.770555e+10   \n",
      "6                         0.0            0.0   2.656243e+10   \n",
      "7                         0.0            0.0   4.496510e+10   \n",
      "8                         0.0            0.0   2.078020e+10   \n",
      "9                         0.0            0.0   1.463935e+09   \n",
      "10                        0.0            0.0   6.547973e+09   \n",
      "11                        0.0            0.0   2.621027e+10   \n",
      "12                        0.0            0.0   1.515619e+10   \n",
      "13                        0.0            0.0   4.211785e+10   \n",
      "14                        0.0            0.0   4.299704e+09   \n",
      "15                        0.0            0.0   2.436417e+09   \n",
      "16                        0.0            0.0   5.105357e+09   \n",
      "17                        0.0            0.0   4.814277e+08   \n",
      "18                        0.0            0.0   1.104584e+10   \n",
      "19                        0.0            0.0   2.246064e+10   \n",
      "20                        0.0            0.0   1.229856e+10   \n",
      "21                        0.0            0.0   1.296297e+10   \n",
      "22                        0.0            0.0   4.221827e+08   \n",
      "23                        0.0            0.0   6.298344e+09   \n",
      "24                        0.0            0.0   4.279699e+09   \n",
      "25                        0.0            0.0   2.477650e+10   \n",
      "26                        0.0            0.0   3.740114e+10   \n",
      "27                        0.0            0.0   1.395088e+10   \n",
      "28                        0.0            0.0   1.048887e+10   \n",
      "29                        0.0            0.0   3.991845e+10   \n",
      "30                        0.0            0.0   7.670709e+09   \n",
      "31                        0.0            0.0   4.012084e+10   \n",
      "32                        0.0            0.0   1.041241e+09   \n",
      "33                        0.0            0.0   1.778726e+10   \n",
      "34                        0.0            0.0   4.408886e+10   \n",
      "35                        0.0            0.0   2.564762e+10   \n",
      "36                        0.0            0.0   3.786615e+10   \n",
      "37                        0.0            0.0   2.226391e+10   \n",
      "38                        0.0            0.0   1.902736e+08   \n",
      "39                        0.0            0.0   3.686592e+10   \n",
      "\n",
      "    max_installations_on_related_devices  never_permitted_location_on_account  \\\n",
      "0                                    1.0                                  0.0   \n",
      "1                                    2.0                                  0.0   \n",
      "2                                    2.0                                  0.0   \n",
      "3                                    2.0                                  0.0   \n",
      "4                                    1.0                                  0.0   \n",
      "5                                    2.0                                  0.0   \n",
      "6                                    2.0                                  0.0   \n",
      "7                                    2.0                                  0.0   \n",
      "8                                    2.0                                  0.0   \n",
      "9                                    1.0                                  0.0   \n",
      "10                                   1.0                                  0.0   \n",
      "11                                   2.0                                  0.0   \n",
      "12                                  11.0                                  0.0   \n",
      "13                                   2.0                                  0.0   \n",
      "14                                   1.0                                  0.0   \n",
      "15                                   1.0                                  0.0   \n",
      "16                                  13.0                                  0.0   \n",
      "17                                   1.0                                  0.0   \n",
      "18                                   1.0                                  0.0   \n",
      "19                                   2.0                                  0.0   \n",
      "20                                   2.0                                  1.0   \n",
      "21                                   2.0                                  1.0   \n",
      "22                                   1.0                                  0.0   \n",
      "23                                   1.0                                  1.0   \n",
      "24                                   1.0                                  0.0   \n",
      "25                                   4.0                                  0.0   \n",
      "26                                   2.0                                  0.0   \n",
      "27                                   1.0                                  0.0   \n",
      "28                                   1.0                                  0.0   \n",
      "29                                   2.0                                  0.0   \n",
      "30                                   1.0                                  0.0   \n",
      "31                                   3.0                                  0.0   \n",
      "32                                   1.0                                  1.0   \n",
      "33                                  11.0                                  0.0   \n",
      "34                                   2.0                                  0.0   \n",
      "35                                   4.0                                  0.0   \n",
      "36                                   1.0                                  0.0   \n",
      "37                                   2.0                                  0.0   \n",
      "38                                   1.0                                  1.0   \n",
      "39                                   3.0                                  0.0   \n",
      "\n",
      "    boot_count  wallpaper_count  n_accounts  ato  \n",
      "0          0.0              0.0         1.0  0.0  \n",
      "1          0.0              0.0         1.0  0.0  \n",
      "2          0.0              0.0         1.0  0.0  \n",
      "3          0.0              0.0         1.0  0.0  \n",
      "4          0.0              0.0         1.0  0.0  \n",
      "5          0.0              0.0         0.0  0.0  \n",
      "6          0.0              0.0         1.0  0.0  \n",
      "7          0.0              1.0         1.0  0.0  \n",
      "8          0.0              0.0         1.0  0.0  \n",
      "9          0.0              0.0         1.0  0.0  \n",
      "10         1.0              0.0         1.0  0.0  \n",
      "11         0.0              0.0         1.0  0.0  \n",
      "12         0.0              0.0         0.0  0.0  \n",
      "13         0.0              0.0         1.0  0.0  \n",
      "14         0.0              0.0         1.0  0.0  \n",
      "15         0.0              1.0         1.0  0.0  \n",
      "16         0.0              0.0         1.0  0.0  \n",
      "17         0.0              0.0         1.0  0.0  \n",
      "18         0.0              0.0         1.0  0.0  \n",
      "19         0.0              0.0         1.0  0.0  \n",
      "20         0.0              0.0         0.0  0.0  \n",
      "21         0.0              0.0         0.0  0.0  \n",
      "22         0.0              0.0         1.0  0.0  \n",
      "23         0.0              0.0         1.0  0.0  \n",
      "24         0.0              0.0         1.0  0.0  \n",
      "25         0.0              0.0         1.0  0.0  \n",
      "26         0.0              0.0         0.0  0.0  \n",
      "27         0.0              1.0         1.0  0.0  \n",
      "28         0.0              0.0         1.0  0.0  \n",
      "29         0.0              0.0         1.0  0.0  \n",
      "30         0.0              0.0         1.0  0.0  \n",
      "31         0.0              0.0         1.0  0.0  \n",
      "32         1.0              0.0         1.0  0.0  \n",
      "33         0.0              0.0         1.0  0.0  \n",
      "34         0.0              0.0         1.0  0.0  \n",
      "35         0.0              0.0         1.0  0.0  \n",
      "36         0.0              0.0         1.0  0.0  \n",
      "37         0.0              0.0         1.0  0.0  \n",
      "38         1.0              0.0         1.0  0.0  \n",
      "39         0.0              0.0         0.0  0.0  \n"
     ]
    }
   ],
   "source": [
    "dataframe = pd.read_parquet('final.parquet3', engine=\"pyarrow\")\n",
    "print(dataframe.head(40))"
   ]
  },
  {
   "cell_type": "code",
   "execution_count": 100,
   "metadata": {},
   "outputs": [
    {
     "name": "stdout",
     "output_type": "stream",
     "text": [
      "*--abrindo database--*\n",
      "*--convertendo timestamp--*\n",
      "*--salvando a database--*\n"
     ]
    }
   ],
   "source": [
    "def createPeriodDay(parquetPath: str):\n",
    "    print(\"*--abrindo database--*\")\n",
    "    dataframe = pd.read_parquet(f'{parquetPath}.parquet3', engine=\"pyarrow\")\n",
    "    print(\"*--convertendo timestamp--*\")\n",
    "    lista = []\n",
    "    dataframenumpy = dataframe.to_numpy()\n",
    "    count = 0\n",
    "    for linha in dataframenumpy:\n",
    "        hour = linha[17].hour\n",
    "        if hour >= 0 and hour <= 4:\n",
    "            lista.append(\"dawn\")\n",
    "        elif hour > 4 and hour < 12:\n",
    "            lista.append(\"morning\")\n",
    "        elif hour >= 12 and hour < 19:\n",
    "            lista.append(\"evening\")\n",
    "        elif hour >= 19 and hour <= 23:\n",
    "            lista.append(\"night\")\n",
    "    dataframe[\"period_day\"] = lista\n",
    "    print(\"*--salvando a database--*\")\n",
    "    dataframe.to_parquet(\"data2.parquet3\")\n",
    "createPeriodDay('data')\n"
   ]
  },
  {
   "cell_type": "code",
   "execution_count": 101,
   "metadata": {},
   "outputs": [
    {
     "name": "stdout",
     "output_type": "stream",
     "text": [
      "*--abrindo database--*\n",
      "*--criando coluna--*\n",
      "*--salvando a database--*\n"
     ]
    }
   ],
   "source": [
    "def createLoginsPerId(parquetPath: str):\n",
    "    print(\"*--abrindo database--*\")\n",
    "    dataframe = pd.read_parquet(f'{parquetPath}.parquet3', engine=\"pyarrow\")\n",
    "    print(\"*--criando coluna--*\")\n",
    "    table = {}\n",
    "    dataframenumpy = dataframe.to_numpy()\n",
    "    count = 0\n",
    "    for linha in dataframenumpy:\n",
    "        if linha[1] in table.keys():\n",
    "            table[linha[1]] += 1\n",
    "        else:\n",
    "            table[linha[1]] = 1\n",
    "    dataframe = pd.DataFrame(table.items() ,columns=[\"account_id\", \"logins_amount\"])\n",
    "    print(\"*--salvando a database--*\")\n",
    "    dataframe.to_parquet(\"data3.parquet3\")\n",
    "createLoginsPerId('data2')"
   ]
  },
  {
   "cell_type": "code",
   "execution_count": 102,
   "metadata": {},
   "outputs": [
    {
     "name": "stdout",
     "output_type": "stream",
     "text": [
      "*--abrindo database--*\n",
      "*--criando coluna--*\n",
      "*--salvando a database--*\n"
     ]
    }
   ],
   "source": [
    "def createAccountDevicesAmount(parquetPath: str):\n",
    "    print(\"*--abrindo database--*\")\n",
    "    dataframe = pd.read_parquet(f'{parquetPath}.parquet3', engine=\"pyarrow\")\n",
    "    print(\"*--criando coluna--*\")\n",
    "    tableflag = {}\n",
    "    table = {}\n",
    "    dataframenumpy = dataframe.to_numpy()\n",
    "    count = 0\n",
    "    for linha in dataframenumpy:\n",
    "        if linha[1] in tableflag.keys():\n",
    "            if not (linha[2] in tableflag[linha[1]]):\n",
    "                tableflag[linha[1]].append(linha[2])\n",
    "                table[linha[1]] += 1\n",
    "        else:\n",
    "            tableflag[linha[1]] = [linha[2]]\n",
    "            table[linha[1]] = 1\n",
    "    dataframe = pd.DataFrame(table.items() ,columns=[\"account_id\", \"logins_amount\"])\n",
    "    print(\"*--salvando a database--*\")\n",
    "    dataframe.to_parquet(\"data5.parquet3\")\n",
    "createAccountDevicesAmount(\"data\")"
   ]
  },
  {
   "cell_type": "code",
   "execution_count": 103,
   "metadata": {},
   "outputs": [
    {
     "name": "stdout",
     "output_type": "stream",
     "text": [
      "*--abrindo database--*\n",
      "*--criando coluna--*\n",
      "*--salvando a database--*\n"
     ]
    }
   ],
   "source": [
    "def createAccountBootCountsAndAccountsIds(parquetPath: str):\n",
    "    print(\"*--abrindo database--*\")\n",
    "    dataframe = pd.read_parquet(f'{parquetPath}.parquet3', engine=\"pyarrow\")\n",
    "    print(\"*--criando coluna--*\")\n",
    "    table = {}\n",
    "    dataframenumpy = dataframe.to_numpy()\n",
    "    for linha in dataframenumpy:\n",
    "        if linha[2] not in table.keys():\n",
    "            if linha[13] == linha [15]:\n",
    "                table[linha[2]] = True\n",
    "            else:\n",
    "                table[linha[2]] = False\n",
    "    dataframe = pd.DataFrame(table.items() ,columns=[\"account_id\", \"boot_count_equal_accounts\"])\n",
    "    print(\"*--salvando a database--*\")\n",
    "    dataframe.to_parquet(\"data6.parquet3\")\n",
    "createAccountBootCountsAndAccountsIds(\"data\")"
   ]
  },
  {
   "cell_type": "code",
   "execution_count": 104,
   "metadata": {},
   "outputs": [
    {
     "name": "stdout",
     "output_type": "stream",
     "text": [
      "*--abrindo database--*\n",
      "*--criando coluna--*\n",
      "*--salvando a database--*\n"
     ]
    }
   ],
   "source": [
    "def AccountLoginInEmulatorAndDevice(parquetPath: str):\n",
    "    print(\"*--abrindo database--*\")\n",
    "    dataframe = pd.read_parquet(f'{parquetPath}.parquet3', engine=\"pyarrow\")\n",
    "    print(\"*--criando coluna--*\")\n",
    "    table = {}\n",
    "    tableFlag = {}\n",
    "    dataframenumpy = dataframe.to_numpy()\n",
    "    for linha in dataframenumpy:\n",
    "        if linha[2] not in table.keys():\n",
    "            if linha[6] == 1.0:\n",
    "                table[linha[2]] = [False, True]\n",
    "            else:\n",
    "                table[linha[2]] = [True, False]\n",
    "        else:\n",
    "            if linha[6] == 1.0:\n",
    "                table[linha[2]][1] = True\n",
    "            else:\n",
    "                table[linha[2]][0] = True\n",
    "        tableFlag[linha[2]] = table[linha[2]][0] and table[linha[2]][1]\n",
    "    dataframe = pd.DataFrame(tableFlag.items() ,columns=[\"account_id\", \"boot_count_equal_accounts\"])\n",
    "    print(\"*--salvando a database--*\")\n",
    "    dataframe.to_parquet(\"data7.parquet3\")\n",
    "AccountLoginInEmulatorAndDevice(\"data\")"
   ]
  },
  {
   "cell_type": "code",
   "execution_count": 105,
   "metadata": {},
   "outputs": [
    {
     "name": "stdout",
     "output_type": "stream",
     "text": [
      "5418464 39\n"
     ]
    },
    {
     "data": {
      "image/png": "[encoded data removed]",
      "text/plain": [
       "<Figure size 432x288 with 1 Axes>"
      ]
     },
     "metadata": {},
     "output_type": "display_data"
    }
   ],
   "source": [
    "def graficoEmulador(parquetPath):\n",
    "    \"\"\"\n",
    "    Função: O aplicativo recebe muitos acessos de emuladores?\n",
    "    \"\"\"\n",
    "    dataframe = pd.read_parquet(f'{parquetPath}.parquet3', engine=\"pyarrow\")\n",
    "    colunaEmulador = dataframe[\"is_emulator\"].values\n",
    "    zeroSize = 0\n",
    "    oneSize = 0\n",
    "    for element in colunaEmulador:\n",
    "        if element == 0:\n",
    "            zeroSize+= 1\n",
    "        if element == 1:\n",
    "            oneSize += 1\n",
    "    votos = [oneSize, zeroSize]\n",
    "    opcoes = ['Emulador', \"Não-emulador\"]\n",
    "    colunas = ['r', 'm']\n",
    "    print(zeroSize, oneSize)\n",
    "    # Criando um gráfico\n",
    "    plt.pie(votos, labels = opcoes, colors = colunas, startangle = 90, shadow = True, explode = (0.1, 0.1))\n",
    "    plt.show()\n",
    "graficoEmulador('final')"
   ]
  },
  {
   "cell_type": "code",
   "execution_count": 106,
   "metadata": {},
   "outputs": [
    {
     "data": {
      "image/png": "[encoded data removed]",
      "text/plain": [
       "<Figure size 432x288 with 1 Axes>"
      ]
     },
     "metadata": {},
     "output_type": "display_data"
    }
   ],
   "source": [
    "def graficoLoja(parquetPath):\n",
    "    \"\"\"\n",
    "    Função: O aplicativo é instalado na maioria das vezes pela loja oficial ou fora da loja?\n",
    "    \"\"\"\n",
    "    dataframe = pd.read_parquet(f'{parquetPath}.parquet3', engine=\"pyarrow\")\n",
    "    colunaLoja = dataframe[\"is_from_official_store\"].values\n",
    "    zeroSize = 0\n",
    "    oneSize = 0\n",
    "    for element in colunaLoja:\n",
    "        if element == 0:\n",
    "            zeroSize+= 1\n",
    "        if element == 1:\n",
    "            oneSize += 1\n",
    "    votos = [oneSize, zeroSize]\n",
    "    opcoes = ['Loja oficial', \"Outros meios\"]\n",
    "    explode = (0.1, 0.1) \n",
    "    plt.pie(votos, labels=opcoes, autopct='%1.2f%%', shadow=True, explode=explode)\n",
    "    plt.legend(opcoes, loc=3)\n",
    "    plt.axis('equal')\n",
    "    plt.show()\n",
    "graficoLoja('final')"
   ]
  },
  {
   "cell_type": "code",
   "execution_count": 107,
   "metadata": {},
   "outputs": [
    {
     "data": {
      "image/png": "[encoded data removed]",
      "text/plain": [
       "<Figure size 432x288 with 1 Axes>"
      ]
     },
     "metadata": {},
     "output_type": "display_data"
    }
   ],
   "source": [
    "def graficoIdadeDispositivo(parquetPath):\n",
    "    \"\"\"\n",
    "    Função: Existem muitos acessos de dispositivos antigos?\n",
    "    \"\"\"\n",
    "    dataframe = pd.read_parquet(f'{parquetPath}.parquet3', engine=\"pyarrow\")\n",
    "    colunaIdade = dataframe[\"device_age_ms\"].values\n",
    "    colunaLoja = dataframe[\"is_from_official_store\"].values\n",
    "    contadorAte6Meses = 0\n",
    "    contadorAte1Ano = 0\n",
    "    contadorAte3Anos = 0\n",
    "    contadorAte5Anos = 0\n",
    "    contadorAte10Anos = 0\n",
    "    contadorMaisQue10Anos = 0\n",
    "    ano = 31536000000.0\n",
    "    for element in colunaIdade:\n",
    "        if element < ano/2:\n",
    "            contadorAte6Meses += 1\n",
    "        elif element < ano:\n",
    "            contadorAte1Ano += 1\n",
    "        elif element < 3 * ano:\n",
    "            contadorAte3Anos += 1\n",
    "        elif element < 5 * ano:\n",
    "            contadorAte5Anos += 1\n",
    "        elif element <  10 * ano:\n",
    "            contadorAte10Anos += 1\n",
    "        elif element > 10 * ano:\n",
    "            contadorMaisQue10Anos += 1\n",
    "    grupos = ['Até 6 meses', '1 ano', '3 anos', '5 anos', '10 anos', 'mais de 10 anos']\n",
    "    valores = [contadorAte6Meses, contadorAte1Ano, contadorAte3Anos, contadorAte5Anos, contadorAte10Anos, contadorMaisQue10Anos]\n",
    "    explode = (0.1, 0.1, 0.1, 0.1, 0.1, 0.1) \n",
    "    plt.pie(valores, labels=grupos, autopct='%1.1f%%', shadow=True, explode=explode)\n",
    "    plt.legend(grupos, loc=3)\n",
    "    plt.axis('equal')\n",
    "    plt.show()\n",
    "graficoIdadeDispositivo('final')"
   ]
  },
  {
   "cell_type": "code",
   "execution_count": 108,
   "metadata": {},
   "outputs": [
    {
     "data": {
      "image/png": "[encoded data removed]",
      "text/plain": [
       "<Figure size 432x288 with 1 Axes>"
      ]
     },
     "metadata": {},
     "output_type": "display_data"
    }
   ],
   "source": [
    "def graficoIdadeLoja(parquetPath):\n",
    "    \"\"\"\n",
    "    Função: Idade do dispositivo que não foi instalado na loja oficial?\n",
    "    \"\"\"\n",
    "    dataframe = pd.read_parquet(f'{parquetPath}.parquet3', engine=\"pyarrow\")\n",
    "    dataframenumpy = dataframe.to_numpy()\n",
    "    contadorAte6Meses = 0\n",
    "    contadorAte1Ano = 0\n",
    "    contadorAte3Anos = 0\n",
    "    contadorAte5Anos = 0\n",
    "    contadorAte10Anos = 0\n",
    "    contadorMaisQue10Anos = 0\n",
    "    ano = 31536000000.0\n",
    "    for linha in dataframenumpy:\n",
    "        if linha[5] == False:\n",
    "            if linha[10] < ano/2:\n",
    "                contadorAte6Meses += 1\n",
    "            elif linha[10] < ano:\n",
    "                contadorAte1Ano += 1\n",
    "            elif linha[10] < 3 * ano:\n",
    "                contadorAte3Anos += 1\n",
    "            elif linha[10] < 5 * ano:\n",
    "                contadorAte5Anos += 1\n",
    "            elif linha[10] <  10 * ano:\n",
    "                contadorAte10Anos += 1\n",
    "            elif linha[10] > 10 * ano:\n",
    "                contadorMaisQue10Anos += 1\n",
    "    grupos = ['Até 6 meses', '1 ano', '3 anos', '5 anos', '10 anos', 'mais de 10 anos']\n",
    "    valores = [contadorAte6Meses, contadorAte1Ano, contadorAte3Anos, contadorAte5Anos, contadorAte10Anos, contadorMaisQue10Anos]\n",
    "    explode = (0.1, 0.1, 0.1, 0.1, 0.1, 0.1) \n",
    "    plt.pie(valores, labels=grupos, autopct='%1.1f%%', shadow=True, explode=explode)\n",
    "    plt.legend(grupos, loc=3)\n",
    "    plt.axis('equal')\n",
    "    plt.show()\n",
    "graficoIdadeLoja('final')"
   ]
  },
  {
   "cell_type": "code",
   "execution_count": 109,
   "metadata": {},
   "outputs": [
    {
     "data": {
      "image/png": "[encoded data removed]",
      "text/plain": [
       "<Figure size 432x288 with 1 Axes>"
      ]
     },
     "metadata": {},
     "output_type": "display_data"
    }
   ],
   "source": [
    "def graficoRootFakeLocation(parquetPath):\n",
    "    \"\"\"\n",
    "    Função: Tem alguma ligacao entre root e fake location?\n",
    "    \"\"\"\n",
    "    dataframe = pd.read_parquet(f'{parquetPath}.parquet3', engine=\"pyarrow\")\n",
    "    dataframenumpy = dataframe.to_numpy()\n",
    "    fakeLocationPlusRoot = 0\n",
    "    fakeLocationNotRoot = 0\n",
    "    rootNotFakeLocation = 0\n",
    "    for linha in dataframenumpy:\n",
    "        if linha[7] == True and linha[9] == True:\n",
    "            fakeLocationPlusRoot += 1\n",
    "        if linha[7] == True and linha[9] == False:\n",
    "            fakeLocationNotRoot += 1\n",
    "        if linha[7] == False and linha[9] == True:\n",
    "            rootNotFakeLocation += 1\n",
    "    grupos = [\"Root + Fake Location\", \"Root not fake Location\", \"Fake location not root\"]\n",
    "    valores = [fakeLocationPlusRoot, fakeLocationNotRoot, rootNotFakeLocation]\n",
    "    explode = (0.1, 0.1, 0.1) \n",
    "    plt.pie(valores, labels=grupos, autopct='%1.1f%%', shadow=True, explode=explode)\n",
    "    plt.legend(grupos, loc=3)\n",
    "    plt.axis('equal')\n",
    "    plt.show()\n",
    "graficoRootFakeLocation('final')"
   ]
  },
  {
   "cell_type": "code",
   "execution_count": 110,
   "metadata": {},
   "outputs": [
    {
     "data": {
      "image/png": "[encoded data removed]",
      "text/plain": [
       "<Figure size 432x288 with 1 Axes>"
      ]
     },
     "metadata": {},
     "output_type": "display_data"
    }
   ],
   "source": [
    "def graficoPeriodDay(parquetPath):\n",
    "    \"\"\"\n",
    "    Função: Qual periodo do dia as pessoas costumam entrar mais?\n",
    "    \"\"\"\n",
    "    dataframe = pd.read_parquet(f'{parquetPath}.parquet3', engine=\"pyarrow\")\n",
    "    dataframenumpy = dataframe.to_numpy()\n",
    "    dawn = 0\n",
    "    morning = 0\n",
    "    evening = 0\n",
    "    night = 0\n",
    "    for linha in dataframenumpy:\n",
    "        if linha[18] == 'dawn':\n",
    "            dawn += 1\n",
    "        if linha[18] == 'morning':\n",
    "            morning += 1\n",
    "        if linha[18] == 'evening':\n",
    "            evening += 1\n",
    "        if linha[18] == 'night':\n",
    "            night += 1\n",
    "    grupos = [\"Dawn\", \"Morning\", \"Evening\", 'Night']\n",
    "    valores = [dawn, morning, evening, night]\n",
    "    explode = (0.1, 0.1, 0.1, 0.1) \n",
    "    plt.pie(valores, labels=grupos, autopct='%1.1f%%', shadow=True, explode=explode)\n",
    "    plt.legend(grupos, loc=3)\n",
    "    plt.axis('equal')\n",
    "    plt.show()\n",
    "graficoPeriodDay('data2')"
   ]
  },
  {
   "cell_type": "code",
   "execution_count": 111,
   "metadata": {},
   "outputs": [
    {
     "data": {
      "image/png": "[encoded data removed]",
      "text/plain": [
       "<Figure size 432x288 with 1 Axes>"
      ]
     },
     "metadata": {},
     "output_type": "display_data"
    }
   ],
   "source": [
    "def graficoEmulador2(parquetPath):\n",
    "\n",
    "    # Tem alguma ligacao entre usar emulador e instalar o app sem ser pela loja?\n",
    "\n",
    "    dataframe = pd.read_parquet(f'{parquetPath}.parquet3', engine=\"pyarrow\")\n",
    "    linhas = dataframe.to_numpy()\n",
    "\n",
    "    emulatorAndOfficial = 0\n",
    "    emulatorAndNotOfficial = 0\n",
    "    #1 conta/acoountid dentre todas as contas:\n",
    "    for linha in linhas:\n",
    "        #is_emulator ou is_from_official_store, ou ambos os casos?\n",
    "        if linha[6] == True and linha[5] == True:\n",
    "            emulatorAndOfficial+=1\n",
    "        elif linha[6] == True and linha[5] == False:\n",
    "            emulatorAndNotOfficial += 1\n",
    "    grupos = [\"Emulator and Official Store\", \"Emulator not Official Store\"]\n",
    "    valores = [emulatorAndOfficial, emulatorAndNotOfficial]\n",
    "    explode = (0.1, 0.1) \n",
    "    plt.pie(valores, labels=grupos, autopct='%1.1f%%', shadow=True, explode=explode)\n",
    "    plt.legend(grupos, loc=3)\n",
    "    plt.axis('equal')\n",
    "    plt.show()\n",
    "\n",
    "graficoEmulador2(\"final\")"
   ]
  },
  {
   "cell_type": "code",
   "execution_count": 112,
   "metadata": {},
   "outputs": [
    {
     "data": {
      "image/png": "[encoded data removed]",
      "text/plain": [
       "<Figure size 432x288 with 1 Axes>"
      ]
     },
     "metadata": {
      "needs_background": "light"
     },
     "output_type": "display_data"
    }
   ],
   "source": [
    "def graficoDeviceAmountPerAccount(parquetPath):\n",
    "    \"\"\"\n",
    "    Função: Quantidade de dispositivos que uma conta ja fez login?\n",
    "    \"\"\"\n",
    "    dataframe = pd.read_parquet(f'{parquetPath}.parquet3', engine=\"pyarrow\")\n",
    "    dataframenumpy = dataframe.to_numpy()\n",
    "    one = 0\n",
    "    two = 0\n",
    "    three = 0\n",
    "    fourOrMore = 0\n",
    "    for linha in dataframenumpy:\n",
    "        if linha[1] == 1:\n",
    "            one += 1\n",
    "        if linha[1] == 2:\n",
    "            two += 1\n",
    "        if linha[1] == 3:\n",
    "            three += 1\n",
    "        if linha[1] >= 4:\n",
    "            fourOrMore += 1\n",
    "    grupos = [\"One\", \"Two\", \"Three\", 'Four or More']\n",
    "    valores = [one, two, three, fourOrMore]\n",
    "    plt.bar(grupos, valores)\n",
    "    plt.show()\n",
    "graficoDeviceAmountPerAccount('data5')"
   ]
  },
  {
   "cell_type": "code",
   "execution_count": 113,
   "metadata": {},
   "outputs": [
    {
     "name": "stdout",
     "output_type": "stream",
     "text": [
      "95868 301972\n"
     ]
    },
    {
     "data": {
      "image/png": "[encoded data removed]",
      "text/plain": [
       "<Figure size 432x288 with 1 Axes>"
      ]
     },
     "metadata": {
      "needs_background": "light"
     },
     "output_type": "display_data"
    }
   ],
   "source": [
    "def graficoBootCountEqualsNAccounts(parquetPath):\n",
    "    \"\"\"\n",
    "    Função: Tem alguma ligacao entre quantidade de reinicializacoes com o n de contas que o dispositivo fez login?\n",
    "    \"\"\"\n",
    "    dataframe = pd.read_parquet(f'{parquetPath}.parquet3', engine=\"pyarrow\")\n",
    "    dataframenumpy = dataframe.to_numpy()\n",
    "    true = 0\n",
    "    false = 0\n",
    "    for linha in dataframenumpy:\n",
    "        if linha[1] == True:\n",
    "            true += 1\n",
    "        if linha[1] == False:\n",
    "            false += 1\n",
    "    print(true, false)\n",
    "    grupos = [\"True\", \"False\"]\n",
    "    valores = [true, false]\n",
    "    plt.bar(grupos, valores)\n",
    "    plt.show()\n",
    "graficoBootCountEqualsNAccounts('data6')"
   ]
  },
  {
   "cell_type": "code",
   "execution_count": 114,
   "metadata": {},
   "outputs": [
    {
     "name": "stdout",
     "output_type": "stream",
     "text": [
      "1 397839\n"
     ]
    },
    {
     "data": {
      "image/png": "[encoded data removed]",
      "text/plain": [
       "<Figure size 432x288 with 1 Axes>"
      ]
     },
     "metadata": {
      "needs_background": "light"
     },
     "output_type": "display_data"
    }
   ],
   "source": [
    "def graficoAccountInEmulatorAndDevice(parquetPath):\n",
    "    \"\"\"\n",
    "    Função: Quantas contas foram acessadas no emulador e num device?\n",
    "    \"\"\"\n",
    "    dataframe = pd.read_parquet(f'{parquetPath}.parquet3', engine=\"pyarrow\")\n",
    "    dataframenumpy = dataframe.to_numpy()\n",
    "    true = 0\n",
    "    false = 0\n",
    "    for linha in dataframenumpy:\n",
    "        if linha[1] == True:\n",
    "            true += 1\n",
    "        if linha[1] == False:\n",
    "            false += 1\n",
    "    print(true, false)\n",
    "    grupos = [\"True\", \"False\"]\n",
    "    valores = [true, false]\n",
    "    plt.bar(grupos, valores)\n",
    "    plt.show()\n",
    "graficoAccountInEmulatorAndDevice('data7')"
   ]
  },
  {
   "cell_type": "code",
   "execution_count": 115,
   "metadata": {},
   "outputs": [
    {
     "name": "stdout",
     "output_type": "stream",
     "text": [
      "             id        account_id         device_id   installation_id  \\\n",
      "0  799740346707  TqOdN7Cur7dtEdK7  V1/mpO8Eb5fy/87f  HwLha2eyuH87iOHw   \n",
      "1  799740346708  I+G2HszxtyUbCVsW  gKXXaMs2g+gnkHOt  5JRPK8+KpnkGLGJR   \n",
      "2  799740346709  5sfgFfXCFYj6iNuD  kuo6ArO8jK+wNzVK  SodNn8Yr7znCjf6z   \n",
      "3  799740346710  J64jLpE2HpKoR2So  jbR+9pwpd5El8Xug  WwDbJdena2/yXSv0   \n",
      "4  799740346711  0Ui1Br2v3WBi6qim  DQRaW4xrifVhH3+Z  /q9io2xZDrfDSSFJ   \n",
      "\n",
      "      timestamp  is_from_official_store  is_emulator  has_fake_location_app  \\\n",
      "0  1.619888e+12                     1.0          0.0                    0.0   \n",
      "1  1.621366e+12                     1.0          0.0                    0.0   \n",
      "2  1.624017e+12                     1.0          0.0                    0.0   \n",
      "3  1.626304e+12                     1.0          0.0                    0.0   \n",
      "4  1.618733e+12                     1.0          0.0                    0.0   \n",
      "\n",
      "   has_fake_location_enabled  probable_root  device_age_ms  \\\n",
      "0                        0.0            0.0   4.304522e+09   \n",
      "1                        0.0            0.0   2.392659e+10   \n",
      "2                        0.0            0.0   2.473928e+10   \n",
      "3                        0.0            0.0   1.918591e+10   \n",
      "4                        0.0            0.0   3.618855e+09   \n",
      "\n",
      "   max_installations_on_related_devices  never_permitted_location_on_account  \\\n",
      "0                                   1.0                                  0.0   \n",
      "1                                   2.0                                  0.0   \n",
      "2                                   2.0                                  0.0   \n",
      "3                                   2.0                                  0.0   \n",
      "4                                   1.0                                  0.0   \n",
      "\n",
      "   boot_count  wallpaper_count  n_accounts  ato         local_date_time  \\\n",
      "0         0.0              0.0         1.0  0.0 2021-05-01 13:49:52.733   \n",
      "1         0.0              0.0         1.0  0.0 2021-05-18 16:32:57.483   \n",
      "2         0.0              0.0         1.0  0.0 2021-06-18 08:50:07.559   \n",
      "3         0.0              0.0         1.0  0.0 2021-07-14 19:58:48.983   \n",
      "4         0.0              0.0         1.0  0.0 2021-04-18 05:00:08.338   \n",
      "\n",
      "  period_day  \n",
      "0    evening  \n",
      "1    evening  \n",
      "2    morning  \n",
      "3      night  \n",
      "4    morning  \n"
     ]
    }
   ],
   "source": [
    "dataframe = pd.read_parquet('data2.parquet3')\n",
    "print(dataframe.head(5))"
   ]
  },
  {
   "cell_type": "code",
   "execution_count": 116,
   "metadata": {},
   "outputs": [
    {
     "name": "stdout",
     "output_type": "stream",
     "text": [
      "A media de data dos emuladores sao maiores que 2020? True\n"
     ]
    }
   ],
   "source": [
    "dataframe = pd.read_parquet('data2.parquet3')\n",
    "is_emulator_mean = dataframe[dataframe['is_emulator'] == 1.0]['local_date_time'].mean()\n",
    "print(\"A media de data dos emuladores sao maiores que 2020?\", is_emulator_mean > datetime.datetime(2020,12,13))"
   ]
  },
  {
   "cell_type": "code",
   "execution_count": 117,
   "metadata": {},
   "outputs": [
    {
     "name": "stdout",
     "output_type": "stream",
     "text": [
      "emuladores com no maximo 1 ano de idade: 741\n",
      "emuladores com no maximo 2 anos de idade: 0\n",
      "emuladores com 3 ou mais anos de idade: 0\n"
     ]
    }
   ],
   "source": [
    "dataframe = pd.read_parquet('data2.parquet3')\n",
    "is_emulator = dataframe[dataframe['is_emulator'] == 1.0]\n",
    "old_emulator = is_emulator[is_emulator['local_date_time'] <= datetime.datetime(2021,12,13)]\n",
    "old_emulator = old_emulator[old_emulator['local_date_time'] >= datetime.datetime(2020,12,13)]\n",
    "print(\"emuladores com no maximo 1 ano de idade:\", old_emulator.size)\n",
    "old_emulator = is_emulator[is_emulator['local_date_time'] < datetime.datetime(2020,12,13)]\n",
    "old_emulator = old_emulator[old_emulator['local_date_time'] >= datetime.datetime(2019,12,13)]\n",
    "print(\"emuladores com no maximo 2 anos de idade:\", old_emulator.size)\n",
    "old_emulator = is_emulator[is_emulator['local_date_time'] < datetime.datetime(2019,12,13)]\n",
    "print(\"emuladores com 3 ou mais anos de idade:\", old_emulator.size)"
   ]
  },
  {
   "cell_type": "code",
   "execution_count": 119,
   "metadata": {},
   "outputs": [
    {
     "name": "stdout",
     "output_type": "stream",
     "text": [
      "Quantas contas diferentes tem na base: 321469\n"
     ]
    }
   ],
   "source": [
    "dataframe = pd.read_parquet('final.parquet3')\n",
    "account_id_count = dataframe['account_id'].unique().size\n",
    "print(\"Quantas contas diferentes tem na base:\", account_id_count)\n"
   ]
  },
  {
   "cell_type": "code",
   "execution_count": 120,
   "metadata": {},
   "outputs": [
    {
     "name": "stdout",
     "output_type": "stream",
     "text": [
      "Quantos dispositivos diferentes tem na base: 397840\n"
     ]
    }
   ],
   "source": [
    "dataframe = pd.read_parquet('final.parquet3')\n",
    "account_id_count = dataframe['device_id'].unique().size\n",
    "print(\"Quantos dispositivos diferentes tem na base:\", account_id_count)"
   ]
  }
 ],
 "metadata": {
  "interpreter": {
   "hash": "d1093ba1c0d5411e1fbf2d554c8f960aa3d278af67633c39e1721162d586c5b8"
  },
  "kernelspec": {
   "display_name": "Python 3.10.0 64-bit (system)",
   "language": "python",
   "name": "python3"
  },
  "language_info": {
   "codemirror_mode": {
    "name": "ipython",
    "version": 3
   },
   "file_extension": ".py",
   "mimetype": "text/x-python",
   "name": "python",
   "nbconvert_exporter": "python",
   "pygments_lexer": "ipython3",
   "version": "3.10.0"
  },
  "orig_nbformat": 4
 },
 "nbformat": 4,
 "nbformat_minor": 2
}
